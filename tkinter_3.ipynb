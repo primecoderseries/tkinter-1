{
 "cells": [
  {
   "cell_type": "markdown",
   "metadata": {},
   "source": [
    "# List Box"
   ]
  },
  {
   "cell_type": "code",
   "execution_count": 10,
   "metadata": {},
   "outputs": [],
   "source": [
    "from tkinter import *\n",
    "root=Tk()\n",
    "root.geometry(\"300x300\")\n",
    "\n",
    "a=Label(root,text=\"Days of a week\",fg=\"yellow\",bg=\"black\")\n",
    "b=Label(root,text=\"Select one from below\",fg=\"red\")\n",
    "box1=Listbox(root)\n",
    "\n",
    "box1.insert(1,\"Sunday\")\n",
    "box1.insert(2,\"Monday\")\n",
    "box1.insert(3,\"Tueday\")\n",
    "box1.insert(4,\"Wednesday\")\n",
    "box1.insert(5,\"Thursday\")\n",
    "box1.insert(6,\"Friday\")\n",
    "box1.insert(7,\"Saturday\")\n",
    "\n",
    "button1=Button(root,text=\"Delete\",command=lambda box1=box1: box1.delete(ANCHOR))\n",
    "\n",
    "a.pack()\n",
    "b.pack()\n",
    "box1.pack()\n",
    "button1.pack()\n",
    "mainloop()"
   ]
  },
  {
   "cell_type": "markdown",
   "metadata": {},
   "source": [
    "# Scroll Bar"
   ]
  },
  {
   "cell_type": "code",
   "execution_count": 30,
   "metadata": {},
   "outputs": [],
   "source": [
    "from tkinter import *\n",
    "root=Tk()\n",
    "#root.geometry(\"300x300\")\n",
    "\n",
    "bar1=Scrollbar(root)\n",
    "#bar1.pack(side=RIGHT,fill=X)\n",
    "bar1.pack(side=RIGHT,fill=Y)\n",
    "\n",
    "a=Listbox(root,yscrollcommand=bar1.set)\n",
    "\n",
    "for b in range(100):\n",
    "    a.insert(END,f\"{str(b)}\")\n",
    "a.pack(side=LEFT,fill=BOTH)\n",
    "bar1.config(command=a.yview)\n",
    "mainloop()"
   ]
  },
  {
   "cell_type": "code",
   "execution_count": 31,
   "metadata": {},
   "outputs": [],
   "source": [
    "from tkinter import *\n",
    "root = Tk()\n",
    "\n",
    "frame=Frame(root,width=300,height=300)\n",
    "frame.pack(expand=True,fill=BOTH)\n",
    "\n",
    "canvas=Canvas(frame,bg=\"blue\",width=300,height=300,scrollregion=(0,0,500,500))\n",
    "\n",
    "hbar=Scrollbar(frame,orient=HORIZONTAL)\n",
    "hbar.pack(side=BOTTOM,fill=X)\n",
    "hbar.config(command=canvas.xview)\n",
    "\n",
    "vbar=Scrollbar(frame,orient=VERTICAL)\n",
    "vbar.pack(side=BOTTOM,fill=Y)\n",
    "vbar.config(command=canvas.yview)\n",
    "\n",
    "canvas.config(width=300,height=300)\n",
    "canvas.config(xscrollcommand=hbar.set,yscrollcommand=vbar.set)\n",
    "canvas.pack(side=LEFT,expand=True,fill=BOTH)\n",
    "\n",
    "mainloop()"
   ]
  },
  {
   "cell_type": "markdown",
   "metadata": {},
   "source": [
    "# Text widget"
   ]
  },
  {
   "cell_type": "code",
   "execution_count": 32,
   "metadata": {},
   "outputs": [],
   "source": [
    "import tkinter as tk\n",
    "root=tk.Tk()\n",
    "root.geometry(\"300x300\")\n",
    "\n",
    "text1=tk.Text(root,width=30,height=10)\n",
    "text1.pack()\n",
    "text1.insert(END,\"\\n Hello \\n I am M. Ramarao \\n Happy coding\")\n",
    "tk.mainloop()"
   ]
  },
  {
   "cell_type": "markdown",
   "metadata": {},
   "source": [
    "# Scale widget"
   ]
  },
  {
   "cell_type": "code",
   "execution_count": 17,
   "metadata": {},
   "outputs": [],
   "source": [
    "from tkinter import *\n",
    "\n",
    "\n",
    "root=Tk()\n",
    "root.geometry(\"300x300\")\n",
    "\n",
    "var1=DoubleVar()\n",
    "scale1=Scale(root,variable=var1)\n",
    "\n",
    "\n",
    "scale1.pack(anchor=CENTER)\n",
    "mainloop()"
   ]
  },
  {
   "cell_type": "code",
   "execution_count": 18,
   "metadata": {},
   "outputs": [],
   "source": [
    "from tkinter import *\n",
    "def display1():\n",
    "    selection=f\"{str(var1.get())}\"\n",
    "    label1.config(text=selection)\n",
    "\n",
    "root=Tk()\n",
    "root.geometry(\"300x300\")\n",
    "\n",
    "var1=DoubleVar()\n",
    "scale1=Scale(root,variable=var1)\n",
    "\n",
    "button1=Button(root,text=\"Display\",command=display1)\n",
    "label1=Label(root)\n",
    "\n",
    "scale1.pack(anchor=CENTER)\n",
    "button1.pack()\n",
    "label1.pack()\n",
    "mainloop()"
   ]
  },
  {
   "cell_type": "markdown",
   "metadata": {},
   "source": [
    "# Spin Box"
   ]
  },
  {
   "cell_type": "code",
   "execution_count": 35,
   "metadata": {},
   "outputs": [],
   "source": [
    "from tkinter import *\n",
    "root=Tk()\n",
    "root.geometry(\"500x500\")\n",
    "\n",
    "spin1=Spinbox(root,from_=0,to=100)\n",
    "spin1.pack()\n",
    "\n",
    "mainloop()"
   ]
  },
  {
   "cell_type": "markdown",
   "metadata": {},
   "source": [
    "# Menu Button"
   ]
  },
  {
   "cell_type": "code",
   "execution_count": 36,
   "metadata": {},
   "outputs": [],
   "source": [
    "from tkinter import *\n",
    "root=Tk()\n",
    "root.geometry(\"300x300\")\n",
    "\n",
    "menubutton=Menubutton(root,text=\"Menu\")\n",
    "\n",
    "menubutton.pack()\n",
    "mainloop()"
   ]
  },
  {
   "cell_type": "code",
   "execution_count": 37,
   "metadata": {},
   "outputs": [],
   "source": [
    "from tkinter import *\n",
    "root=Tk()\n",
    "root.geometry(\"300x300\")\n",
    "\n",
    "button1=Menubutton(root,text=\"Months\",relief=FLAT)\n",
    "button1.grid()\n",
    "button1.menu=Menu(button1)\n",
    "button1[\"menu\"]=button1.menu\n",
    "\n",
    "var1=IntVar()\n",
    "button1.menu.add_checkbutton(label=\"January\",variable=var1)\n",
    "button1.menu.add_checkbutton(label=\"February\",variable=var1)\n",
    "button1.menu.add_checkbutton(label=\"March\",variable=var1)\n",
    "\n",
    "button1.pack()\n",
    "mainloop()"
   ]
  },
  {
   "cell_type": "markdown",
   "metadata": {},
   "source": [
    "# Menu Bar"
   ]
  },
  {
   "cell_type": "code",
   "execution_count": 40,
   "metadata": {},
   "outputs": [],
   "source": [
    "from tkinter import *\n",
    "root=Tk()\n",
    "\n",
    "def welcome():\n",
    "    print(\"Welcome to the demo\")\n",
    "\n",
    "bar1=Menu(root)\n",
    "bar1.add_command(label=\"Welcome\",command=welcome)\n",
    "bar1.add_command(label=\"Close\",command=root.destroy)\n",
    "root.config(menu=bar1)\n",
    "\n",
    "\n",
    "\n",
    "root.mainloop()"
   ]
  },
  {
   "cell_type": "markdown",
   "metadata": {},
   "source": [
    "# Pop-Up Menu"
   ]
  },
  {
   "cell_type": "code",
   "execution_count": 4,
   "metadata": {},
   "outputs": [],
   "source": [
    "from tkinter import *\n",
    "root=Tk()\n",
    "root.geometry(\"300x300\")\n",
    "\n",
    "a=Label(root, text=\"Right Click for Pop-Up Menu\",width=50,height=25)\n",
    "a.pack()\n",
    "\n",
    "pop1=Menu(root,tearoff=0)\n",
    "pop1.add_command(label=\"Sunday\")\n",
    "pop1.add_command(label=\"Monday\")\n",
    "pop1.add_command(label=\"Tueday\")\n",
    "pop1.add_command(label=\"Wednesday\")\n",
    "pop1.add_command(label=\"Thursday\")\n",
    "pop1.add_command(label=\"Friday\")\n",
    "pop1.add_command(label=\"Saturday\")\n",
    "\n",
    "pop1.add_separator()\n",
    "\n",
    "pop1.add_command(label=\"Home\")\n",
    "\n",
    "def do_popup(event):\n",
    "    try:\n",
    "        pop1.tk_popup(event.x_root,event.y_root,0)\n",
    "    finally:\n",
    "        pop1.grab_release()\n",
    "\n",
    "a.bind(\"<Button-3>\",do_popup)\n",
    "b=Button(root,text=\"Close\",command=root.destroy)\n",
    "b.pack()\n",
    "mainloop()"
   ]
  },
  {
   "cell_type": "markdown",
   "metadata": {},
   "source": [
    "# Resize using scale"
   ]
  },
  {
   "cell_type": "code",
   "execution_count": 1,
   "metadata": {},
   "outputs": [],
   "source": [
    "from tkinter import *\n",
    "root=Tk()\n",
    "root.geometry(\"300x300\")\n",
    "def resize(ev=None):\n",
    "    a.configure(font=\"Arial -%d bold\"%scale1.get())\n",
    "\n",
    "a=Label(root,text=\"Hello !!\",fg=\"yellow\",bg=\"black\",font=\"Arial -12 bold\")\n",
    "a.pack(fill=Y)\n",
    "\n",
    "\n",
    "scale1=Scale(root,from_=10,to=40,orient=HORIZONTAL,command=resize)\n",
    "scale1.set(30)\n",
    "scale1.pack(fill=X)\n",
    "\n",
    "close=Button(root,text=\"CLOSE\",command=root.destroy)\n",
    "close.pack()\n",
    "\n",
    "mainloop()"
   ]
  },
  {
   "cell_type": "markdown",
   "metadata": {},
   "source": [
    "# Label with image"
   ]
  },
  {
   "cell_type": "code",
   "execution_count": 14,
   "metadata": {},
   "outputs": [],
   "source": [
    "from tkinter import *\n",
    "root=Tk()\n",
    "root.geometry(\"1000x1000\")\n",
    "\n",
    "a=Label(text=\"Family Photo\",font=\"Arial,20,bold\",fg=\"brown\",bg=\"green\",justify=CENTER,wraplength=150)\n",
    "a.pack()\n",
    "\n",
    "image1=PhotoImage(file=\"Firefox_wallpaper.png\")\n",
    "a.config(image=image1)\n",
    "#a.config(compound=\"text\")\n",
    "a.config(compound=\"center\")\n",
    "a.config(compound=\"left\")\n",
    "\n",
    "mainloop()"
   ]
  },
  {
   "cell_type": "markdown",
   "metadata": {},
   "source": [
    "# Pane window"
   ]
  },
  {
   "cell_type": "code",
   "execution_count": 23,
   "metadata": {},
   "outputs": [],
   "source": [
    "from tkinter import *\n",
    "root=Tk()\n",
    "root.geometry(\"300x300\")\n",
    "\n",
    "pane1=PanedWindow(orient=VERTICAL)\n",
    "pane1.pack(fill=BOTH,expand=1)\n",
    "\n",
    "label1=Label(pane1,text=\"Upper Window\")\n",
    "pane1.add(label1)\n",
    "#label2=Label(pane1,text=\"Middle Window\")\n",
    "#pane1.add(label2)\n",
    "label3=Label(pane1,text=\"Lower Window\")\n",
    "pane1.add(label3)\n",
    "mainloop()"
   ]
  },
  {
   "cell_type": "code",
   "execution_count": null,
   "metadata": {},
   "outputs": [],
   "source": []
  }
 ],
 "metadata": {
  "kernelspec": {
   "display_name": "Python 3",
   "language": "python",
   "name": "python3"
  },
  "language_info": {
   "codemirror_mode": {
    "name": "ipython",
    "version": 3
   },
   "file_extension": ".py",
   "mimetype": "text/x-python",
   "name": "python",
   "nbconvert_exporter": "python",
   "pygments_lexer": "ipython3",
   "version": "3.7.6"
  }
 },
 "nbformat": 4,
 "nbformat_minor": 4
}
