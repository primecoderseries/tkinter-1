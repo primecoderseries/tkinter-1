{
 "cells": [
  {
   "cell_type": "markdown",
   "metadata": {},
   "source": [
    "# Layout (Geometry) Managers : Pack Grid Place"
   ]
  },
  {
   "cell_type": "markdown",
   "metadata": {},
   "source": [
    "# Pack Method or Pack Geometry Manager"
   ]
  },
  {
   "cell_type": "code",
   "execution_count": 26,
   "metadata": {},
   "outputs": [],
   "source": [
    "from tkinter import *\n",
    "root=Tk()\n",
    "root.geometry(\"200x200\")\n",
    "\n",
    "a=Label(root,text=\"Days of a week\",fg=\"brown\")\n",
    "a.pack(fill=X)\n",
    "\n",
    "a=Label(root,text=\"\")\n",
    "a.pack(fill=X)\n",
    "\n",
    "a=Label(root,text=\"Sunday\",fg=\"White\",bg=\"violet\")\n",
    "a.pack(fill=X,padx=70,pady=0)\n",
    "a=Label(root,text=\"Monday\",fg=\"White\",bg=\"indigo\")\n",
    "a.pack(fill=X,padx=60,pady=0)\n",
    "a=Label(root,text=\"Tueday\",fg=\"White\",bg=\"Blue\")\n",
    "a.pack(fill=X,padx=50,pady=0)\n",
    "a=Label(root,text=\"Wedday\",fg=\"White\",bg=\"Green\")\n",
    "a.pack(fill=X,padx=40,pady=0)\n",
    "a=Label(root,text=\"Thursday\",fg=\"White\",bg=\"Yellow\")\n",
    "a.pack(fill=X,padx=30,pady=0)\n",
    "a=Label(root,text=\"Friday\",fg=\"White\",bg=\"Orange\")\n",
    "a.pack(fill=X,padx=20,pady=0)\n",
    "a=Label(root,text=\"Saturday\",fg=\"White\",bg=\"Red\")\n",
    "a.pack(fill=X,padx=10,pady=0)\n",
    "\n",
    "\n",
    "mainloop()"
   ]
  },
  {
   "cell_type": "code",
   "execution_count": 29,
   "metadata": {},
   "outputs": [],
   "source": [
    "from tkinter import *\n",
    "root=Tk()\n",
    "root.geometry(\"200x200\")\n",
    "\n",
    "a=Label(root,text=\"Days of a week\",fg=\"brown\")\n",
    "a.pack(fill=X)\n",
    "\n",
    "a=Label(root,text=\"\")\n",
    "a.pack(fill=X)\n",
    "\n",
    "a=Label(root,text=\"Sunday\",fg=\"White\",bg=\"violet\")\n",
    "a.pack(fill=X,padx=70,pady=10,side=LEFT)\n",
    "a=Label(root,text=\"Monday\",fg=\"White\",bg=\"indigo\")\n",
    "a.pack(fill=X,padx=60,pady=10,side=LEFT)\n",
    "a=Label(root,text=\"Tueday\",fg=\"White\",bg=\"Blue\")\n",
    "a.pack(fill=X,padx=50,pady=10,side=LEFT)\n",
    "a=Label(root,text=\"Wedday\",fg=\"White\",bg=\"Green\")\n",
    "a.pack(fill=X,padx=40,pady=10,side=LEFT)\n",
    "a=Label(root,text=\"Thursday\",fg=\"White\",bg=\"Yellow\")\n",
    "a.pack(fill=X,padx=30,pady=10,side=LEFT)\n",
    "a=Label(root,text=\"Friday\",fg=\"White\",bg=\"Orange\")\n",
    "a.pack(fill=X,padx=20,pady=10,side=LEFT)\n",
    "a=Label(root,text=\"Saturday\",fg=\"White\",bg=\"Red\")\n",
    "a.pack(fill=X,padx=10,pady=10,side=LEFT)\n",
    "\n",
    "\n",
    "mainloop()"
   ]
  },
  {
   "cell_type": "markdown",
   "metadata": {},
   "source": [
    "# Grid method"
   ]
  },
  {
   "cell_type": "markdown",
   "metadata": {},
   "source": [
    "It is a two dimensional method"
   ]
  },
  {
   "cell_type": "code",
   "execution_count": 42,
   "metadata": {},
   "outputs": [],
   "source": [
    "from tkinter import *\n",
    "\n",
    "Label(text=\"Rainbow Colors\",fg=\"Brown\",width=15).grid(column=1,row=0)\n",
    "\n",
    "rainbow=[\"violet\",\"indigo\",\"blue\",\"green\",\"yellow\",\"orange\",\"red\"]\n",
    "\n",
    "\n",
    "count=2\n",
    "for color in rainbow:\n",
    "    Label(text=color,fg=color,width=10).grid(column=2,row=count)\n",
    "    Label(bg=color,width=20).grid(column=0,row=count)\n",
    "    count+=1\n",
    "\n",
    "\n",
    "\n",
    "mainloop()"
   ]
  },
  {
   "cell_type": "markdown",
   "metadata": {},
   "source": [
    "# Place Method"
   ]
  },
  {
   "cell_type": "code",
   "execution_count": 56,
   "metadata": {},
   "outputs": [],
   "source": [
    "from tkinter import *\n",
    "root=Tk()\n",
    "root.geometry(\"300x300+10+10\")\n",
    "\n",
    "a=Label(root,text=\"A =\")\n",
    "b=Entry(root,bd=5)\n",
    "a.place(x=30, y=10)\n",
    "b.place(x=70,y=10)\n",
    "\n",
    "a=Label(root,text=\"B =\")\n",
    "b=Entry(root,bd=5)\n",
    "a.place(x=30, y=30)\n",
    "b.place(x=70,y=30)\n",
    "\n",
    "\n",
    "a=Label(root,text=\"A+B =\")\n",
    "b=Entry(root,bd=5)\n",
    "a.place(x=30, y=90)\n",
    "b.place(x=70,y=90)\n",
    "\n",
    "c=Button(root,text=\"ADD\")\n",
    "c.place(x=90,y=60)\n",
    "\n",
    "mainloop()"
   ]
  },
  {
   "cell_type": "code",
   "execution_count": null,
   "metadata": {},
   "outputs": [],
   "source": []
  }
 ],
 "metadata": {
  "kernelspec": {
   "display_name": "Python 3",
   "language": "python",
   "name": "python3"
  },
  "language_info": {
   "codemirror_mode": {
    "name": "ipython",
    "version": 3
   },
   "file_extension": ".py",
   "mimetype": "text/x-python",
   "name": "python",
   "nbconvert_exporter": "python",
   "pygments_lexer": "ipython3",
   "version": "3.7.6"
  }
 },
 "nbformat": 4,
 "nbformat_minor": 4
}
