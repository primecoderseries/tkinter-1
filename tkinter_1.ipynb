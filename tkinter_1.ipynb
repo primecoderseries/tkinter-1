{
 "cells": [
  {
   "cell_type": "markdown",
   "metadata": {},
   "source": [
    "tkinter tutorial\n",
    "1. Import tkinter\n",
    "2. Create main window\n",
    "3. Add widgets in this main window\n",
    "4. Widget funtionality (event trigger)"
   ]
  },
  {
   "cell_type": "code",
   "execution_count": 44,
   "metadata": {},
   "outputs": [],
   "source": [
    "from tkinter import *\n",
    "root = Tk()\n",
    "root.title(\"Just a hobby\")\n",
    "mainloop()"
   ]
  },
  {
   "cell_type": "markdown",
   "metadata": {},
   "source": [
    "Same program can be written in a different way as shown below just to verify whether to always use \"root\""
   ]
  },
  {
   "cell_type": "code",
   "execution_count": 45,
   "metadata": {},
   "outputs": [],
   "source": [
    "import tkinter\n",
    "top=tkinter.Tk()\n",
    "top.title(\"Just a hobby\")\n",
    "mainloop()"
   ]
  },
  {
   "cell_type": "markdown",
   "metadata": {},
   "source": [
    "# Label creation"
   ]
  },
  {
   "cell_type": "markdown",
   "metadata": {},
   "source": [
    "Let's create a label now. Label (capital L) is a keyword for creating the label. The parent window name and text to be displayed are to be mentioned. pack is a method which makes the label to fit to the window."
   ]
  },
  {
   "cell_type": "code",
   "execution_count": 47,
   "metadata": {},
   "outputs": [],
   "source": [
    "import tkinter as tk\n",
    "root=tk.Tk()\n",
    "a=tk.Label(root,text=\"Click me\")\n",
    "a.pack()\n",
    "mainloop()"
   ]
  },
  {
   "cell_type": "markdown",
   "metadata": {},
   "source": [
    "# Button creation"
   ]
  },
  {
   "cell_type": "markdown",
   "metadata": {},
   "source": [
    "Button is the keyword for creating a button.\n",
    "Button has more functionality.\n",
    "More things can be done using a button."
   ]
  },
  {
   "cell_type": "code",
   "execution_count": 49,
   "metadata": {},
   "outputs": [
    {
     "name": "stdout",
     "output_type": "stream",
     "text": [
      "This is a button\n"
     ]
    }
   ],
   "source": [
    "import tkinter as tk\n",
    "root=tk.Tk()\n",
    "\n",
    "\n",
    "def name_display():\n",
    "    print(\"This is a button\")\n",
    "\n",
    "button1=tk.Button(root, text=\"Close\",fg=\"red\")\n",
    "button1.pack(side=LEFT)\n",
    "\n",
    "button2=tk.Button(root, text=\"New Button\", fg=\"green\", command=name_display())\n",
    "button2.pack(side=RIGHT)\n",
    "\n",
    "\n",
    "\n",
    "\n",
    "\n",
    "\n",
    "\n",
    "root.mainloop()"
   ]
  },
  {
   "cell_type": "markdown",
   "metadata": {},
   "source": [
    "# A counter using label and a button to stop counter"
   ]
  },
  {
   "cell_type": "code",
   "execution_count": 50,
   "metadata": {},
   "outputs": [],
   "source": [
    "import tkinter as tk\n",
    "\n",
    "\n",
    "counter=0\n",
    "\n",
    "def count(label):\n",
    "    counter=0\n",
    "    def count1():\n",
    "        global counter\n",
    "        counter+=1\n",
    "        label.config(text=str(counter))\n",
    "        label.after(1000,count1)\n",
    "    count1()\n",
    "\n",
    "root=tk.Tk()\n",
    "root.title(\"Up Counter\")\n",
    "label=tk.Label(root,fg=\"red\")\n",
    "label.pack()\n",
    "\n",
    "count(label)\n",
    "\n",
    "button=tk.Button(root,text=\"Stop\",width=30,command=root.destroy)\n",
    "button.pack()\n",
    "\n",
    "root.mainloop()       "
   ]
  },
  {
   "cell_type": "markdown",
   "metadata": {},
   "source": [
    "# Creating a frame"
   ]
  },
  {
   "cell_type": "markdown",
   "metadata": {},
   "source": [
    "The keyword to create a frame is Frame.\n",
    "Frame is a container for all widgets."
   ]
  },
  {
   "cell_type": "code",
   "execution_count": 51,
   "metadata": {},
   "outputs": [],
   "source": [
    "from tkinter import *\n",
    "root=Tk()\n",
    "root.title(\"Example Frame\")\n",
    "\n",
    "root.geometry(\"300x200\")\n",
    "\n",
    "frame=Frame(root)\n",
    "frame.pack()\n",
    "\n",
    "\n",
    "mainloop()"
   ]
  },
  {
   "cell_type": "markdown",
   "metadata": {},
   "source": [
    "Lets add some buttons to it."
   ]
  },
  {
   "cell_type": "code",
   "execution_count": 52,
   "metadata": {},
   "outputs": [],
   "source": [
    "from tkinter import *\n",
    "root=Tk()\n",
    "root.title(\"Example Frame\")\n",
    "\n",
    "root.geometry(\"300x200\")\n",
    "\n",
    "frame=Frame(root)\n",
    "frame.pack()\n",
    "\n",
    "button1=Button(frame,text=\"LEFT\",fg=\"black\",activebackground=\"red\")\n",
    "button1.pack(side=LEFT)\n",
    "\n",
    "button2=Button(frame,text=\"RIGHT\",fg=\"white\",activebackground=\"green\")\n",
    "button2.pack(side=RIGHT)\n",
    "\n",
    "button3=Button(frame,text=\"CLOSE\",fg=\"blue\",command=root.destroy)\n",
    "button3.pack(side=RIGHT)\n",
    "\n",
    "mainloop()"
   ]
  },
  {
   "cell_type": "markdown",
   "metadata": {},
   "source": [
    "# Check Button or Check Box"
   ]
  },
  {
   "cell_type": "code",
   "execution_count": 53,
   "metadata": {},
   "outputs": [],
   "source": [
    "from tkinter import *\n",
    "root=Tk()\n",
    "\n",
    "var1=IntVar()\n",
    "var2=IntVar()\n",
    "Checkbutton(root,text=\"Hyderabad\",variable=var1).grid(row=0,sticky=W)\n",
    "Checkbutton(root,text=\"Secunderabad\",variable=var2).grid(row=1,sticky=W)\n",
    "mainloop()"
   ]
  },
  {
   "cell_type": "markdown",
   "metadata": {},
   "source": [
    "# Radio Buttons"
   ]
  },
  {
   "cell_type": "code",
   "execution_count": 57,
   "metadata": {},
   "outputs": [],
   "source": [
    "from tkinter import *\n",
    "root=Tk()\n",
    "root.geometry(\"300x300\")\n",
    "\n",
    "radiovalue=IntVar()\n",
    "radio1=Radiobutton(root,text=\"Sunday\",variable=radiovalue,value=1).grid(column=0,row=0)\n",
    "radio2=Radiobutton(root,text=\"Monday\",variable=radiovalue,value=2).grid(column=0,row=1)\n",
    "radio3=Radiobutton(root,text=\"Tueday\",variable=radiovalue,value=3).grid(column=0,row=2)\n",
    "radio4=Radiobutton(root,text=\"Wedday\",variable=radiovalue,value=4).grid(column=0,row=3)\n",
    "radio5=Radiobutton(root,text=\"Thuday\",variable=radiovalue,value=5).grid(column=0,row=4)\n",
    "radio6=Radiobutton(root,text=\"Friday\",variable=radiovalue,value=6).grid(column=0,row=5)\n",
    "radio7=Radiobutton(root,text=\"Satday\",variable=radiovalue,value=7).grid(column=0,row=6)\n",
    "\n",
    "mainloop()"
   ]
  },
  {
   "cell_type": "code",
   "execution_count": 67,
   "metadata": {},
   "outputs": [],
   "source": [
    "from tkinter import *\n",
    "root=Tk()\n",
    "root.geometry(\"200x200\")\n",
    "label=Label(root,text=\"What is today?\",fg=\"green\").grid(column=1,row=0)\n",
    "\n",
    "radiovalue=IntVar()\n",
    "radio1=Radiobutton(root,text=\"Sunday\",variable=radiovalue,value=1).grid(column=0,row=7)\n",
    "radio2=Radiobutton(root,text=\"Monday\",variable=radiovalue,value=2).grid(column=0,row=1)\n",
    "radio3=Radiobutton(root,text=\"Tueday\",variable=radiovalue,value=3).grid(column=0,row=2)\n",
    "radio4=Radiobutton(root,text=\"Wedday\",variable=radiovalue,value=4).grid(column=0,row=3)\n",
    "radio5=Radiobutton(root,text=\"Thuday\",variable=radiovalue,value=5).grid(column=0,row=4)\n",
    "radio6=Radiobutton(root,text=\"Friday\",variable=radiovalue,value=6).grid(column=0,row=5)\n",
    "radio7=Radiobutton(root,text=\"Satday\",variable=radiovalue,value=7).grid(column=0,row=6)\n",
    "\n",
    "mainloop()"
   ]
  },
  {
   "cell_type": "markdown",
   "metadata": {},
   "source": [
    "# Entry widget"
   ]
  },
  {
   "cell_type": "code",
   "execution_count": 68,
   "metadata": {},
   "outputs": [],
   "source": [
    "from tkinter import *\n",
    "root=Tk()\n",
    "root.geometry(\"200x200\")\n",
    "\n",
    "label1=Label(root,text=\"Email ID\").grid(column=0,row=0)\n",
    "label2=Label(root,text=\"Password\").grid(column=0,row=1)\n",
    "\n",
    "a1=Entry(root).grid(column=1,row=0)\n",
    "a2=Entry(root).grid(column=1,row=1)\n",
    "mainloop()"
   ]
  },
  {
   "cell_type": "code",
   "execution_count": 71,
   "metadata": {},
   "outputs": [],
   "source": [
    "from tkinter import *\n",
    "root=Tk()\n",
    "root.geometry(\"300x300\")\n",
    "label0=Label(root,text=\"Note : Password is visible\",fg=\"red\").grid(column=1,row=1)\n",
    "\n",
    "label1=Label(root,text=\"Email ID\").grid(column=0,row=2)\n",
    "label2=Label(root,text=\"Password\").grid(column=0,row=3)\n",
    "\n",
    "a1=Entry(root).grid(column=1,row=2)\n",
    "a2=Entry(root).grid(column=1,row=3)\n",
    "mainloop()"
   ]
  },
  {
   "cell_type": "markdown",
   "metadata": {},
   "source": [
    "# Dropdown Button or Dropdown Menu "
   ]
  },
  {
   "cell_type": "code",
   "execution_count": 77,
   "metadata": {},
   "outputs": [],
   "source": [
    "from tkinter import *\n",
    "root=Tk()\n",
    "root.geometry(\"300x300\")\n",
    "\n",
    "variable=StringVar(root)\n",
    "variable.set(\"Select One\")\n",
    "\n",
    "a=OptionMenu(root,variable,\"One\",\"Two\",\"Three\",\"Four\")\n",
    "a.pack()\n",
    "\n",
    "\n",
    "mainloop()"
   ]
  },
  {
   "cell_type": "code",
   "execution_count": null,
   "metadata": {},
   "outputs": [],
   "source": []
  },
  {
   "cell_type": "code",
   "execution_count": null,
   "metadata": {},
   "outputs": [],
   "source": []
  }
 ],
 "metadata": {
  "kernelspec": {
   "display_name": "Python 3",
   "language": "python",
   "name": "python3"
  },
  "language_info": {
   "codemirror_mode": {
    "name": "ipython",
    "version": 3
   },
   "file_extension": ".py",
   "mimetype": "text/x-python",
   "name": "python",
   "nbconvert_exporter": "python",
   "pygments_lexer": "ipython3",
   "version": "3.7.6"
  }
 },
 "nbformat": 4,
 "nbformat_minor": 4
}
